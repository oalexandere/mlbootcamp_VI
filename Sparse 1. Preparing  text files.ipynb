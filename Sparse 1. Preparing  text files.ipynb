{
 "cells": [
  {
   "cell_type": "code",
   "execution_count": 116,
   "metadata": {},
   "outputs": [],
   "source": [
    "import gzip\n",
    "\n",
    "import numpy as np\n",
    "import pandas as pd\n",
    "from tqdm import tqdm\n",
    "from scipy import sparse"
   ]
  },
  {
   "cell_type": "code",
   "execution_count": 2,
   "metadata": {},
   "outputs": [],
   "source": [
    "test_df = pd.read_csv('..\\\\input\\\\mlboot_test.tsv', index_col=0)\n",
    "train_df = pd.read_csv('..\\\\input\\\\mlboot_train_answers.tsv', delimiter='\\t', index_col=0)\n",
    "train_index = train_df.index\n",
    "\n",
    "# Разметить таргет для vw\n",
    "train_df[train_df['target']==0] = -1"
   ]
  },
  {
   "cell_type": "code",
   "execution_count": 3,
   "metadata": {
    "scrolled": true
   },
   "outputs": [
    {
     "data": {
      "text/html": [
       "<div>\n",
       "<style scoped>\n",
       "    .dataframe tbody tr th:only-of-type {\n",
       "        vertical-align: middle;\n",
       "    }\n",
       "\n",
       "    .dataframe tbody tr th {\n",
       "        vertical-align: top;\n",
       "    }\n",
       "\n",
       "    .dataframe thead th {\n",
       "        text-align: right;\n",
       "    }\n",
       "</style>\n",
       "<table border=\"1\" class=\"dataframe\">\n",
       "  <thead>\n",
       "    <tr style=\"text-align: right;\">\n",
       "      <th></th>\n",
       "    </tr>\n",
       "    <tr>\n",
       "      <th>cuid</th>\n",
       "    </tr>\n",
       "  </thead>\n",
       "  <tbody>\n",
       "    <tr>\n",
       "      <th>888b238b4d14c03173baa375a739f6bc</th>\n",
       "    </tr>\n",
       "    <tr>\n",
       "      <th>ac4b8244f3ae82df511b002257473c11</th>\n",
       "    </tr>\n",
       "  </tbody>\n",
       "</table>\n",
       "</div>"
      ],
      "text/plain": [
       "Empty DataFrame\n",
       "Columns: []\n",
       "Index: [888b238b4d14c03173baa375a739f6bc, ac4b8244f3ae82df511b002257473c11]"
      ]
     },
     "execution_count": 3,
     "metadata": {},
     "output_type": "execute_result"
    }
   ],
   "source": [
    "test_df.head(2)"
   ]
  },
  {
   "cell_type": "code",
   "execution_count": 4,
   "metadata": {},
   "outputs": [
    {
     "data": {
      "text/html": [
       "<div>\n",
       "<style scoped>\n",
       "    .dataframe tbody tr th:only-of-type {\n",
       "        vertical-align: middle;\n",
       "    }\n",
       "\n",
       "    .dataframe tbody tr th {\n",
       "        vertical-align: top;\n",
       "    }\n",
       "\n",
       "    .dataframe thead th {\n",
       "        text-align: right;\n",
       "    }\n",
       "</style>\n",
       "<table border=\"1\" class=\"dataframe\">\n",
       "  <thead>\n",
       "    <tr style=\"text-align: right;\">\n",
       "      <th></th>\n",
       "      <th>target</th>\n",
       "    </tr>\n",
       "    <tr>\n",
       "      <th>cuid</th>\n",
       "      <th></th>\n",
       "    </tr>\n",
       "  </thead>\n",
       "  <tbody>\n",
       "    <tr>\n",
       "      <th>dc28aafafcfa71c0bbfa2a5724af6061</th>\n",
       "      <td>-1</td>\n",
       "    </tr>\n",
       "    <tr>\n",
       "      <th>a4e12f1cbce08d16f3bb0672cef5193c</th>\n",
       "      <td>-1</td>\n",
       "    </tr>\n",
       "  </tbody>\n",
       "</table>\n",
       "</div>"
      ],
      "text/plain": [
       "                                  target\n",
       "cuid                                    \n",
       "dc28aafafcfa71c0bbfa2a5724af6061      -1\n",
       "a4e12f1cbce08d16f3bb0672cef5193c      -1"
      ]
     },
     "execution_count": 4,
     "metadata": {},
     "output_type": "execute_result"
    }
   ],
   "source": [
    "train_df.head(2)"
   ]
  },
  {
   "cell_type": "markdown",
   "metadata": {},
   "source": [
    "# Создание датасетов для дальнейшего преобразования данных в sparse\n",
    "\n",
    "Идея:\n",
    "- Объединить все признаки одинаковых cuid в одну строку\n",
    "- Признаки одной категории сгруппировать последовательно в разные файлы\n",
    "\n",
    "Полученные данные для train:\n",
    "- dataset_s_cat.csv - категориальные признаки\n",
    "- dataset_s_counter.csv - токены, преобразованные из исходных dict к виду 809001 809001 848545 848545 565828 490363 ...\n",
    "- dataset_s_cuid.csv - список cuids\n",
    "- dataset_s_day.csv - номера дней, пример строки: 39 43 45 46 48 53 55\n",
    "- dataset_s_labels.csv - метки классов\n",
    "\n",
    "Полученные данные для test (аналогичны, за исключением файла c labels):\n",
    "- dataset_s_test_cat.csv - категориальные признаки\n",
    "- dataset_s_test_counter.csv - токены, преобразованные из исходных dict к виду 809001 809001 848545 848545 565828 490363 ...\n",
    "- dataset_s_test_cuid.csv - список cuids\n",
    "- dataset_s_test_day.csv - номера дней, пример строки: 39 43 45 46 48 53 55\n",
    "\n",
    "Количество строк в полученных данных равно количеству cuids"
   ]
  },
  {
   "cell_type": "code",
   "execution_count": 55,
   "metadata": {},
   "outputs": [],
   "source": [
    "def c_parse(counter_row):\n",
    "    \"\"\"Парсинг строк counter1,2,3 для использования в создании признаков.\n",
    "    \n",
    "    Input:\n",
    "    1. counter_row = '{\"809001\":2,\"848545\":2,\"565828\":1,\"490363\":1}'\n",
    "    2. counter_row = '{}'\n",
    "    \n",
    "    Output:\n",
    "    1. c_edit_row = '809001 809001 848545 848545 565828 490363 '\n",
    "    2. c_edit_row = ''\n",
    "    \"\"\"\n",
    "    c_edit_row = counter_row[1:-1].replace('\"','')\n",
    "    \n",
    "    if c_edit_row:\n",
    "        c_edit_row = c_edit_row.split(',')\n",
    "#         c_edit_row = ' '.join([' '.join([x[0]] * int(x[1])) for ll in c_edit_row for x in [ll.split(':')]])\n",
    "        c_edit_row = [' '.join([x[0]] * int(x[1])) for ll in c_edit_row for x in [ll.split(':')]]\n",
    "        return c_edit_row\n",
    "    \n",
    "    return []\n",
    "\n",
    "\n",
    "def cat_f(cat_row, val=0):\n",
    "    \"\"\"Категориальная числовая фича, увеличенная на val\"\"\"\n",
    "    return str(int(cat_row)+val)"
   ]
  },
  {
   "cell_type": "markdown",
   "metadata": {},
   "source": [
    "#### Проверка функций"
   ]
  },
  {
   "cell_type": "code",
   "execution_count": 59,
   "metadata": {},
   "outputs": [],
   "source": [
    "with gzip.open('..\\\\input\\\\mlboot_data.tsv.gz', 'rt') as f:\n",
    "    for row in f:\n",
    "        break\n",
    "cuid, cat_feature, counter1, counter2, counter3, day = row.split()\n",
    "c1, c2, c3 = c_parse(counter1), c_parse(counter2), c_parse(counter3)"
   ]
  },
  {
   "cell_type": "code",
   "execution_count": 62,
   "metadata": {},
   "outputs": [
    {
     "data": {
      "text/plain": [
       "'809001 809001 848545 848545 565828 490363 85789 238490 32285 103987 16507 16507 6477 92797 92797'"
      ]
     },
     "execution_count": 62,
     "metadata": {},
     "output_type": "execute_result"
    }
   ],
   "source": [
    "' '.join(c1 + c2 + c3)"
   ]
  },
  {
   "cell_type": "markdown",
   "metadata": {},
   "source": [
    "## Создание файлов"
   ]
  },
  {
   "cell_type": "code",
   "execution_count": null,
   "metadata": {},
   "outputs": [],
   "source": [
    "def to_vw(cat_feature, counter1, counter2, counter3, day):\n",
    "    \n",
    "    c1 = c_parse(counter1)\n",
    "    c2 = c_parse(counter2)\n",
    "    c3 = c_parse(counter3)\n",
    "    \n",
    "    cat_feature_vw = f\"{cat_feature}\"\n",
    "    counter = ' '.join(c1 + c2 + c3)\n",
    "    dayn_vw = f\"{day}\"\n",
    "    \n",
    "    return cat_feature_vw, counter, dayn_vw"
   ]
  },
  {
   "cell_type": "markdown",
   "metadata": {},
   "source": [
    "##### Проверка функций создания строк для VW"
   ]
  },
  {
   "cell_type": "code",
   "execution_count": 66,
   "metadata": {},
   "outputs": [
    {
     "data": {
      "text/plain": [
       "('5',\n",
       " '809001 809001 848545 848545 565828 490363 85789 238490 32285 103987 16507 16507 6477 92797 92797',\n",
       " '39')"
      ]
     },
     "execution_count": 66,
     "metadata": {},
     "output_type": "execute_result"
    }
   ],
   "source": [
    "with gzip.open('..\\\\input\\\\mlboot_data.tsv.gz', 'rt') as f:\n",
    "    for row in f:\n",
    "        break\n",
    "\n",
    "cuid, cat_feature, counter1, counter2, counter3, day = row.split()\n",
    "to_vw(cat_feature, counter1, counter2, counter3, day)"
   ]
  },
  {
   "cell_type": "code",
   "execution_count": 78,
   "metadata": {
    "scrolled": false
   },
   "outputs": [
    {
     "name": "stderr",
     "output_type": "stream",
     "text": [
      "19528597it [18:03, 18023.39it/s]\n"
     ]
    }
   ],
   "source": [
    "# %%time\n",
    "\n",
    "niter = 0\n",
    "input_gzip = '..\\\\input\\\\mlboot_data.tsv.gz'\n",
    "\n",
    "output_dataset = '..\\\\sparse\\\\dataset_s_counter.csv'\n",
    "output_dataset_cat = '..\\\\sparse\\\\dataset_s_cat.csv'\n",
    "output_dataset_day = '..\\\\sparse\\\\dataset_s_day.csv'\n",
    "output_dataset_cuid = '..\\\\sparse\\\\dataset_s_cuid.csv'\n",
    "output_dataset_labels = '..\\\\sparse\\\\dataset_s_labels.csv'\n",
    "\n",
    "output_test = '..\\\\sparse\\\\dataset_s_test_counter.csv'\n",
    "output_test_cat = '..\\\\sparse\\\\dataset_s_test_cat.csv'\n",
    "output_test_day = '..\\\\sparse\\\\dataset_s_test_day.csv'\n",
    "output_test_cuid = '..\\\\sparse\\\\dataset_s_test_cuid.csv'\n",
    "\n",
    "prev_cuid = ''\n",
    "prev_cuid_in_train = None\n",
    "\n",
    "with gzip.open(input_gzip, 'rt') as input_data, \\\n",
    "    open(output_dataset, 'w') as dataset, \\\n",
    "    open(output_dataset_cat, 'w') as dataset_cat, \\\n",
    "    open(output_dataset_day, 'w') as dataset_day, \\\n",
    "    open(output_dataset_cuid, 'w') as dataset_cuid, \\\n",
    "    open(output_dataset_labels, 'w') as dataset_labels, \\\n",
    "    open(output_test, 'w') as test, \\\n",
    "    open(output_test_cat, 'w') as test_cat, \\\n",
    "    open(output_test_day, 'w') as test_day, \\\n",
    "    open(output_test_cuid, 'w') as test_cuid:\n",
    "\n",
    "    for row in tqdm(input_data):\n",
    "        cuid, cat_feature, counter1, counter2, counter3, day = row.split()\n",
    "        cat_feature_vw, counter, dayn_vw = to_vw(cat_feature, counter1, counter2, counter3, day)\n",
    "        \n",
    "        if cuid != prev_cuid:  # Новый cuid\n",
    "            niter += 1\n",
    "            \n",
    "            # Записать строку для предыдущего cuid\n",
    "            if prev_cuid_in_train:\n",
    "                dataset.write(counter_full + '\\n')\n",
    "                dataset_cat.write(cat_full + '\\n')\n",
    "                dataset_day.write(dayn_full + '\\n')\n",
    "                dataset_labels.write(str(label) + '\\n')\n",
    "            elif prev_cuid_in_train is not None:\n",
    "                test.write(counter_full + '\\n')\n",
    "                test_cat.write(cat_full + '\\n')\n",
    "                test_day.write(dayn_full + '\\n')\n",
    "            \n",
    "#             if niter > 1000:\n",
    "#                 break\n",
    "            \n",
    "            cat_full = cat_feature_vw\n",
    "            counter_full = counter\n",
    "            dayn_full = dayn_vw\n",
    "            \n",
    "            cuid_in_train = cuid in train_index\n",
    "            if cuid_in_train:\n",
    "                label = train_df['target'][cuid]\n",
    "                dataset_cuid.write(f'{cuid}\\n')\n",
    "            else:\n",
    "                test_cuid.write(f'{cuid}\\n')\n",
    "            \n",
    "            prev_cuid = cuid\n",
    "            prev_cuid_in_train = cuid_in_train\n",
    "        else:\n",
    "            cat_full += ' ' + cat_feature_vw\n",
    "            counter_full += ' ' + counter\n",
    "            dayn_full += ' ' + dayn_vw\n",
    "    \n",
    "    # Записать последнюю строку в файл\n",
    "    if prev_cuid_in_train:\n",
    "        dataset.write(counter_full + '\\n')\n",
    "        dataset_cat.write(cat_full + '\\n')\n",
    "        dataset_day.write(dayn_full + '\\n')\n",
    "        dataset_labels.write(str(label) + '\\n')\n",
    "    else:\n",
    "        test.write(counter_full + '\\n')\n",
    "        test_cat.write(cat_full + '\\n')\n",
    "        test_day.write(dayn_full + '\\n')\n",
    "    \n",
    "    # Последний cuid\n",
    "    if cuid in train_index:\n",
    "        dataset_cuid.write(f'{cuid}\\n')\n",
    "    else:\n",
    "        test_cuid.write(f'{cuid}\\n')"
   ]
  },
  {
   "cell_type": "code",
   "execution_count": null,
   "metadata": {},
   "outputs": [],
   "source": []
  },
  {
   "cell_type": "code",
   "execution_count": null,
   "metadata": {},
   "outputs": [],
   "source": []
  },
  {
   "cell_type": "code",
   "execution_count": null,
   "metadata": {},
   "outputs": [],
   "source": []
  },
  {
   "cell_type": "code",
   "execution_count": null,
   "metadata": {},
   "outputs": [],
   "source": []
  }
 ],
 "metadata": {
  "kernelspec": {
   "display_name": "Python 3",
   "language": "python",
   "name": "python3"
  },
  "language_info": {
   "codemirror_mode": {
    "name": "ipython",
    "version": 3
   },
   "file_extension": ".py",
   "mimetype": "text/x-python",
   "name": "python",
   "nbconvert_exporter": "python",
   "pygments_lexer": "ipython3",
   "version": "3.6.5"
  }
 },
 "nbformat": 4,
 "nbformat_minor": 2
}
