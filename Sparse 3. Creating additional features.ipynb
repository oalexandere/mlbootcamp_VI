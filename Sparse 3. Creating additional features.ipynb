{
 "cells": [
  {
   "cell_type": "code",
   "execution_count": 1,
   "metadata": {},
   "outputs": [],
   "source": [
    "import gc\n",
    "\n",
    "import numpy as np\n",
    "import pandas as pd\n",
    "from scipy import sparse\n",
    "\n",
    "from sklearn.preprocessing import MinMaxScaler\n",
    "from sklearn.linear_model import SGDRegressor"
   ]
  },
  {
   "cell_type": "markdown",
   "metadata": {},
   "source": [
    "# Регрессия в качестве регрессора\n",
    "\n",
    "Сделано на скорую руку не очень красиво - нужно приводить код в порядок.\n",
    "\n",
    "Идея - сделать предсказания SGDRegressor на следующих файлах:\n",
    "- sp_train_cat.npz\n",
    "- sp_train_dataset.npz\n",
    "- sp_train_day.npz\n",
    "- sp_train_day_cat.npz"
   ]
  },
  {
   "cell_type": "code",
   "execution_count": null,
   "metadata": {},
   "outputs": [],
   "source": [
    "def get_sgd(X_train, y_train):\n",
    "    \n",
    "    \n",
    "    sgd = SGDRegressor(loss='huber', max_iter=100)\n",
    "    sgd.fit(X_train, y_train)\n",
    "\n",
    "    train_pred = sgd.predict(X_train)[None].T)\n",
    "    test_pred = sgd.predict(X_test)[None].T)\n",
    "    \n",
    "    return train_pred, test_pred"
   ]
  },
  {
   "cell_type": "markdown",
   "metadata": {},
   "source": [
    "### Dataset"
   ]
  },
  {
   "cell_type": "code",
   "execution_count": null,
   "metadata": {},
   "outputs": [],
   "source": [
    "X_train = sparse.load_npz('..\\\\sparse\\\\sp_train_dataset.npz')\n",
    "X_test = sparse.load_npz('..\\\\sparse\\\\sp_test_dataset.npz')\n",
    "\n",
    "# Правильные ответы на train\n",
    "y_train = read_file('..\\\\sparse\\\\dataset_s_labels.csv')\n",
    "y_train = np.array([int(a) for a in y_train])\n",
    "\n",
    "X_train, y_train.shape"
   ]
  },
  {
   "cell_type": "code",
   "execution_count": null,
   "metadata": {},
   "outputs": [],
   "source": [
    "sgd = SGDRegressor(loss='huber', max_iter=100)\n",
    "sgd.fit(X_train, y_train)\n",
    "\n",
    "train_pred = sgd.predict(X_train)\n",
    "test_pred = sgd.predict(X_test)\n",
    "\n",
    "# Сохранить результаты\n",
    "sparse.save_npz('..\\\\sparse\\\\sp_train_dataset_pred_sgdregressor', sparse.csr_matrix(train_pred[None].T))\n",
    "sparse.save_npz('..\\\\sparse\\\\sp_test_dataset_pred_sgdregressor', sparse.csr_matrix(test_pred[None].T))\n",
    "\n",
    "# sp_new_feat1 = sparse.csr_matrix(train_pred[None].T)\n",
    "# sp_new_feat_test1 = sparse.csr_matrix(test_pred[None].T)"
   ]
  },
  {
   "cell_type": "code",
   "execution_count": null,
   "metadata": {},
   "outputs": [],
   "source": [
    "sp_new_feat1 = sparse.load_npz('..\\\\sparse\\\\sp_train_dataset_pred_sgdregressor.npz')\n",
    "sp_new_feat_test1 = sparse.load_npz('..\\\\sparse\\\\sp_test_dataset_pred_sgdregressor.npz')"
   ]
  },
  {
   "cell_type": "markdown",
   "metadata": {},
   "source": [
    "### Counter"
   ]
  },
  {
   "cell_type": "code",
   "execution_count": null,
   "metadata": {},
   "outputs": [],
   "source": [
    "X_train = sparse.load_npz('..\\\\sparse\\\\sp_train_counter.npz')\n",
    "X_test = sparse.load_npz('..\\\\sparse\\\\sp_test_counter.npz')\n",
    "\n",
    "# Правильные ответы на train\n",
    "y_train = read_file('..\\\\sparse\\\\dataset_s_labels.csv')\n",
    "y_train = np.array([int(a) for a in y_train])\n",
    "\n",
    "X_train, y_train.shape"
   ]
  },
  {
   "cell_type": "code",
   "execution_count": null,
   "metadata": {},
   "outputs": [],
   "source": [
    "sgd = SGDRegressor(loss='huber', max_iter=100)\n",
    "sgd.fit(X_train, y_train)\n",
    "\n",
    "train_pred = sgd.predict(X_train)\n",
    "test_pred = sgd.predict(X_test)\n",
    "\n",
    "# Сохранить результаты\n",
    "sparse.save_npz('..\\\\sparse\\\\sp_train_counter_pred_sgdregressor', sparse.csr_matrix(train_pred[None].T))\n",
    "sparse.save_npz('..\\\\sparse\\\\sp_test_counter_pred_sgdregressor', sparse.csr_matrix(test_pred[None].T))\n",
    "\n",
    "# sp_new_feat2 = sparse.csr_matrix(train_pred[None].T)\n",
    "# sp_new_feat_test2 = sparse.csr_matrix(test_pred[None].T)"
   ]
  },
  {
   "cell_type": "code",
   "execution_count": null,
   "metadata": {},
   "outputs": [],
   "source": [
    "sp_new_feat2 = sparse.load_npz('..\\\\sparse\\\\sp_train_counter_pred_sgdregressor.npz')\n",
    "sp_new_feat_test2 = sparse.load_npz('..\\\\sparse\\\\sp_test_counter_pred_sgdregressor.npz')"
   ]
  },
  {
   "cell_type": "markdown",
   "metadata": {},
   "source": [
    "### cat_feature"
   ]
  },
  {
   "cell_type": "code",
   "execution_count": null,
   "metadata": {},
   "outputs": [],
   "source": [
    "X_train = sparse.load_npz('..\\\\sparse\\\\sp_train_cat.npz')\n",
    "X_test = sparse.load_npz('..\\\\sparse\\\\sp_test_cat.npz')\n",
    "\n",
    "# Правильные ответы на train\n",
    "y_train = read_file('..\\\\sparse\\\\dataset_s_labels.csv')\n",
    "y_train = np.array([int(a) for a in y_train])\n",
    "\n",
    "X_train, y_train.shape"
   ]
  },
  {
   "cell_type": "code",
   "execution_count": null,
   "metadata": {},
   "outputs": [],
   "source": [
    "sgd = SGDRegressor(loss='huber', max_iter=500)\n",
    "sgd.fit(X_train, y_train)\n",
    "\n",
    "train_pred = sgd.predict(X_train)\n",
    "test_pred = sgd.predict(X_test)\n",
    "\n",
    "sp_new_feat3 = sparse.csr_matrix(train_pred[None].T)\n",
    "sp_new_feat_test3 = sparse.csr_matrix(test_pred[None].T)"
   ]
  },
  {
   "cell_type": "markdown",
   "metadata": {},
   "source": [
    "### Day"
   ]
  },
  {
   "cell_type": "code",
   "execution_count": null,
   "metadata": {},
   "outputs": [],
   "source": [
    "X_train = sparse.load_npz('..\\\\sparse\\\\sp_train_day.npz')\n",
    "X_test = sparse.load_npz('..\\\\sparse\\\\sp_test_day.npz')\n",
    "\n",
    "# Правильные ответы на train\n",
    "y_train = read_file('..\\\\sparse\\\\dataset_s_labels.csv')\n",
    "y_train = np.array([int(a) for a in y_train])\n",
    "\n",
    "X_train, y_train.shape"
   ]
  },
  {
   "cell_type": "code",
   "execution_count": null,
   "metadata": {},
   "outputs": [],
   "source": [
    "sgd = SGDRegressor(loss='huber', max_iter=500)\n",
    "sgd.fit(X_train, y_train)\n",
    "\n",
    "train_pred = sgd.predict(X_train)\n",
    "test_pred = sgd.predict(X_test)\n",
    "\n",
    "sp_new_feat4 = sparse.csr_matrix(train_pred[None].T)\n",
    "sp_new_feat_test4 = sparse.csr_matrix(test_pred[None].T)"
   ]
  },
  {
   "cell_type": "markdown",
   "metadata": {},
   "source": [
    "### day_cat"
   ]
  },
  {
   "cell_type": "code",
   "execution_count": null,
   "metadata": {},
   "outputs": [],
   "source": [
    "X_train = sparse.load_npz('..\\\\sparse\\\\sp_train_day_cat.npz')\n",
    "X_test = sparse.load_npz('..\\\\sparse\\\\sp_test_day_cat.npz')\n",
    "\n",
    "# Правильные ответы на train\n",
    "y_train = read_file('..\\\\sparse\\\\dataset_s_labels.csv')\n",
    "y_train = np.array([int(a) for a in y_train])\n",
    "\n",
    "X_train, y_train.shape"
   ]
  },
  {
   "cell_type": "code",
   "execution_count": null,
   "metadata": {},
   "outputs": [],
   "source": [
    "sgd = SGDRegressor(loss='huber', max_iter=500)\n",
    "sgd.fit(X_train, y_train)\n",
    "\n",
    "train_pred = sgd.predict(X_train)\n",
    "test_pred = sgd.predict(X_test)\n",
    "\n",
    "sp_new_feat5 = sparse.csr_matrix(train_pred[None].T)\n",
    "sp_new_feat_test5 = sparse.csr_matrix(test_pred[None].T)"
   ]
  },
  {
   "cell_type": "markdown",
   "metadata": {},
   "source": [
    "### Объединить все в одно"
   ]
  },
  {
   "cell_type": "code",
   "execution_count": null,
   "metadata": {},
   "outputs": [],
   "source": [
    "sp_all_new_feat = sparse.hstack([sp_new_feat1, sp_new_feat2, sp_new_feat3, sp_new_feat4, sp_new_feat5])\n",
    "sp_all_new_feat_test = sparse.hstack([sp_new_feat_test1, sp_new_feat_test2, sp_new_feat_test3, sp_new_feat_test4, sp_new_feat_test5])"
   ]
  },
  {
   "cell_type": "markdown",
   "metadata": {},
   "source": [
    "### Нормализация"
   ]
  },
  {
   "cell_type": "code",
   "execution_count": null,
   "metadata": {},
   "outputs": [],
   "source": [
    "from sklearn.preprocessing import StandardScaler, MinMaxScaler"
   ]
  },
  {
   "cell_type": "code",
   "execution_count": null,
   "metadata": {},
   "outputs": [],
   "source": [
    "scaler = MinMaxScaler()\n",
    "sp_all_new_feat_arr = scaler.fit_transform(sp_all_new_feat.toarray())\n",
    "sp_all_new_feat_test_arr = scaler.transform(sp_all_new_feat_test.toarray())"
   ]
  },
  {
   "cell_type": "code",
   "execution_count": null,
   "metadata": {},
   "outputs": [],
   "source": [
    "# Сохранить результаты\n",
    "sparse.save_npz('..\\\\sparse\\\\sp_train_sgdregressor_all', sparse.csr_matrix(sp_all_new_feat_arr))\n",
    "sparse.save_npz('..\\\\sparse\\\\sp_test_sgdregressor_all', sparse.csr_matrix(sp_all_new_feat_test_arr))"
   ]
  },
  {
   "cell_type": "code",
   "execution_count": null,
   "metadata": {},
   "outputs": [],
   "source": []
  },
  {
   "cell_type": "code",
   "execution_count": null,
   "metadata": {},
   "outputs": [],
   "source": []
  },
  {
   "cell_type": "code",
   "execution_count": null,
   "metadata": {},
   "outputs": [],
   "source": []
  },
  {
   "cell_type": "markdown",
   "metadata": {},
   "source": [
    "### Добавить данные от  SGD регрессора"
   ]
  },
  {
   "cell_type": "code",
   "execution_count": null,
   "metadata": {},
   "outputs": [],
   "source": [
    "# Добавить данные от  SGD регрессора\n",
    "sp_dataset = sparse.load_npz('..\\\\sparse\\\\sp_train_dataset.npz')\n",
    "sp_sgd = sparse.load_npz('..\\\\sparse\\\\sp_train_sgdregressor_all.npz')\n",
    "\n",
    "# Объединить данные\n",
    "X = sparse.hstack([sp_dataset, sp_sgd])\n",
    "print(X.__str__)\n",
    "\n",
    "\n",
    "# Сохранить данные\n",
    "sparse.save_npz('..\\\\sparse\\\\sp_train_dataset_sgd', X)\n",
    "\n",
    "del sp_dataset, sp_sgd, X\n",
    "gc.collect()"
   ]
  },
  {
   "cell_type": "code",
   "execution_count": null,
   "metadata": {},
   "outputs": [],
   "source": [
    "sp_test_dataset = sparse.load_npz('..\\\\sparse\\\\sp_test_dataset.npz')\n",
    "sp_test_sgd = sparse.load_npz('..\\\\sparse\\\\sp_test_sgdregressor_all.npz')\n",
    "\n",
    "# Объединить данные\n",
    "X = sparse.hstack([sp_test_dataset, sp_test_sgd])\n",
    "print(X.__str__)\n",
    "\n",
    "sparse.save_npz('..\\\\sparse\\\\sp_test_dataset_sgd', X)\n",
    "\n",
    "del sp_test_dataset, sp_test_sgd, X\n",
    "gc.collect()"
   ]
  },
  {
   "cell_type": "code",
   "execution_count": null,
   "metadata": {},
   "outputs": [],
   "source": []
  },
  {
   "cell_type": "code",
   "execution_count": null,
   "metadata": {},
   "outputs": [],
   "source": []
  },
  {
   "cell_type": "code",
   "execution_count": null,
   "metadata": {},
   "outputs": [],
   "source": []
  },
  {
   "cell_type": "code",
   "execution_count": null,
   "metadata": {},
   "outputs": [],
   "source": []
  },
  {
   "cell_type": "markdown",
   "metadata": {},
   "source": [
    "# Признаки из knn (не реализовано - Memory Error)"
   ]
  },
  {
   "cell_type": "code",
   "execution_count": null,
   "metadata": {},
   "outputs": [],
   "source": [
    "from sklearn.cluster import KMeans"
   ]
  },
  {
   "cell_type": "code",
   "execution_count": null,
   "metadata": {},
   "outputs": [],
   "source": [
    "X_train = sparse.load_npz('..\\\\sparse\\\\sp_train_dataset.npz')\n",
    "X_test = sparse.load_npz('..\\\\sparse\\\\sp_test_dataset.npz')"
   ]
  },
  {
   "cell_type": "code",
   "execution_count": null,
   "metadata": {},
   "outputs": [],
   "source": [
    "k15 = KMeans(n_clusters=15, precompute_distances=True, n_jobs=-1)\n",
    "k15.fit(X_train)"
   ]
  },
  {
   "cell_type": "code",
   "execution_count": null,
   "metadata": {},
   "outputs": [],
   "source": [
    "k15_pred_train = k15.predict(X_train)\n",
    "k15_pred_test = k15.predict(X_test)[None].T"
   ]
  },
  {
   "cell_type": "code",
   "execution_count": null,
   "metadata": {},
   "outputs": [],
   "source": [
    "k15 = KMeans(n_clusters=15, precompute_distances=True, n_jobs=-1)\n",
    "k15.fit(X_train)\n",
    "\n",
    "k7 = KMeans(n_clusters=7, precompute_distances=True, n_jobs=-1)\n",
    "k7.fit(train)\n",
    "\n",
    "k3 = KMeans(n_clusters=3, precompute_distances=True, n_jobs=-1)\n",
    "k3.fit(train)"
   ]
  },
  {
   "cell_type": "code",
   "execution_count": null,
   "metadata": {},
   "outputs": [],
   "source": [
    "k15_pred_test = k15.predict(test)[None].T\n",
    "k7_pred = k7.predict(test)[None].T"
   ]
  },
  {
   "cell_type": "code",
   "execution_count": null,
   "metadata": {},
   "outputs": [],
   "source": []
  },
  {
   "cell_type": "code",
   "execution_count": null,
   "metadata": {},
   "outputs": [],
   "source": []
  },
  {
   "cell_type": "code",
   "execution_count": null,
   "metadata": {},
   "outputs": [],
   "source": []
  },
  {
   "cell_type": "code",
   "execution_count": null,
   "metadata": {},
   "outputs": [],
   "source": []
  },
  {
   "cell_type": "code",
   "execution_count": null,
   "metadata": {},
   "outputs": [],
   "source": []
  }
 ],
 "metadata": {
  "kernelspec": {
   "display_name": "Python 3",
   "language": "python",
   "name": "python3"
  },
  "language_info": {
   "codemirror_mode": {
    "name": "ipython",
    "version": 3
   },
   "file_extension": ".py",
   "mimetype": "text/x-python",
   "name": "python",
   "nbconvert_exporter": "python",
   "pygments_lexer": "ipython3",
   "version": "3.6.5"
  }
 },
 "nbformat": 4,
 "nbformat_minor": 2
}
