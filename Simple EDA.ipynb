{
 "cells": [
  {
   "cell_type": "code",
   "execution_count": 1,
   "metadata": {},
   "outputs": [],
   "source": [
    "import ast\n",
    "import gzip\n",
    "import os\n",
    "\n",
    "import pandas as pd\n",
    "import numpy as np\n",
    "import matplotlib.pyplot as plt\n",
    "import seaborn as sns\n",
    "\n",
    "from scipy.sparse import csr_matrix\n",
    "from scipy.sparse import hstack\n",
    "from tqdm import tqdm\n",
    "\n",
    "%matplotlib inline"
   ]
  },
  {
   "cell_type": "markdown",
   "metadata": {},
   "source": [
    "# Загрузка данных"
   ]
  },
  {
   "cell_type": "code",
   "execution_count": 2,
   "metadata": {},
   "outputs": [],
   "source": [
    "test_df = pd.read_csv('..\\\\input\\\\mlboot_test.tsv')\n",
    "train_df = pd.read_csv('..\\\\input\\\\mlboot_train_answers.tsv', delimiter='\\t')"
   ]
  },
  {
   "cell_type": "markdown",
   "metadata": {},
   "source": [
    "#### Загрузка всего датасета с признаками (WARNING - MEMORY)"
   ]
  },
  {
   "cell_type": "code",
   "execution_count": null,
   "metadata": {},
   "outputs": [],
   "source": [
    "# Загрузка\n",
    "dataset = pd.read_csv('..\\\\input\\\\mlboot_data.tsv', delimiter='\\t', header=None, \n",
    "                      names=['cuid', 'cat_feature', 'counter1', 'counter2', 'counter3', 'dt_diff'])\n",
    "\n",
    "# Сохранить тестовые данные для возможных экспериментов\n",
    "# dataset.loc[:100, :].to_csv('..\\\\input\\\\test_df.csv', sep='\\t', header=None, index=False)"
   ]
  },
  {
   "cell_type": "code",
   "execution_count": null,
   "metadata": {},
   "outputs": [],
   "source": [
    "print('Dataset:\\n', dataset.head(), '\\n')\n",
    "print('Test df\\n', test_df.head(), '\\n')\n",
    "print('Train df\\n', train_df.head())"
   ]
  },
  {
   "cell_type": "code",
   "execution_count": 4,
   "metadata": {},
   "outputs": [
    {
     "name": "stdout",
     "output_type": "stream",
     "text": [
      "Размерность dataset (19528597, 6)\n",
      "Размерность test_df (181024, 1)\n",
      "Размерность train_df (427994, 2)\n"
     ]
    }
   ],
   "source": [
    "print('Размерность dataset', dataset.shape)\n",
    "print('Размерность test_df', test_df.shape)\n",
    "print('Размерность train_df', train_df.shape)"
   ]
  },
  {
   "cell_type": "markdown",
   "metadata": {},
   "source": [
    "# Simple EDA"
   ]
  },
  {
   "cell_type": "markdown",
   "metadata": {},
   "source": [
    "#### Сбалансированность выборки"
   ]
  },
  {
   "cell_type": "code",
   "execution_count": 6,
   "metadata": {},
   "outputs": [
    {
     "data": {
      "text/html": [
       "<div>\n",
       "<style scoped>\n",
       "    .dataframe tbody tr th:only-of-type {\n",
       "        vertical-align: middle;\n",
       "    }\n",
       "\n",
       "    .dataframe tbody tr th {\n",
       "        vertical-align: top;\n",
       "    }\n",
       "\n",
       "    .dataframe thead th {\n",
       "        text-align: right;\n",
       "    }\n",
       "</style>\n",
       "<table border=\"1\" class=\"dataframe\">\n",
       "  <thead>\n",
       "    <tr style=\"text-align: right;\">\n",
       "      <th></th>\n",
       "      <th>cuid</th>\n",
       "    </tr>\n",
       "    <tr>\n",
       "      <th>target</th>\n",
       "      <th></th>\n",
       "    </tr>\n",
       "  </thead>\n",
       "  <tbody>\n",
       "    <tr>\n",
       "      <th>0</th>\n",
       "      <td>406542</td>\n",
       "    </tr>\n",
       "    <tr>\n",
       "      <th>1</th>\n",
       "      <td>21452</td>\n",
       "    </tr>\n",
       "  </tbody>\n",
       "</table>\n",
       "</div>"
      ],
      "text/plain": [
       "          cuid\n",
       "target        \n",
       "0       406542\n",
       "1        21452"
      ]
     },
     "execution_count": 6,
     "metadata": {},
     "output_type": "execute_result"
    }
   ],
   "source": [
    "train_df.groupby('target').count()"
   ]
  },
  {
   "cell_type": "markdown",
   "metadata": {},
   "source": [
    "##### Количество дней до даты"
   ]
  },
  {
   "cell_type": "code",
   "execution_count": 5,
   "metadata": {},
   "outputs": [
    {
     "data": {
      "text/plain": [
       "count    1.952860e+07\n",
       "mean     3.032207e+01\n",
       "std      1.733587e+01\n",
       "min      1.000000e+00\n",
       "25%      1.500000e+01\n",
       "50%      3.000000e+01\n",
       "75%      4.500000e+01\n",
       "max      6.000000e+01\n",
       "Name: dt_diff, dtype: float64"
      ]
     },
     "execution_count": 5,
     "metadata": {},
     "output_type": "execute_result"
    }
   ],
   "source": [
    "dataset['dt_diff'].describe()"
   ]
  },
  {
   "cell_type": "markdown",
   "metadata": {},
   "source": [
    "##### Распределение количества дней до даты опроса"
   ]
  },
  {
   "cell_type": "code",
   "execution_count": 15,
   "metadata": {
    "scrolled": false
   },
   "outputs": [
    {
     "data": {
      "image/png": "[encoded data removed]",
      "text/plain": [
       "<Figure size 864x576 with 1 Axes>"
      ]
     },
     "metadata": {},
     "output_type": "display_data"
    }
   ],
   "source": [
    "dt_diff = dataset['dt_diff'].value_counts().sort_index()\n",
    "plt.figure(figsize=(12,8))\n",
    "plt.bar(range(dt_diff.shape[0]), dt_diff)\n",
    "plt.title('Распределение количества дней до даты')\n",
    "plt.show()"
   ]
  },
  {
   "cell_type": "markdown",
   "metadata": {},
   "source": [
    "##### Статистика по уникальным идентификаторам"
   ]
  },
  {
   "cell_type": "code",
   "execution_count": 6,
   "metadata": {},
   "outputs": [
    {
     "name": "stdout",
     "output_type": "stream",
     "text": [
      "Статистика по уникальным идентификаторам\n"
     ]
    },
    {
     "data": {
      "text/plain": [
       "count     6.000000\n",
       "mean     16.833333\n",
       "std      18.967516\n",
       "min       1.000000\n",
       "25%       3.250000\n",
       "50%       8.000000\n",
       "75%      32.250000\n",
       "max      42.000000\n",
       "Name: cuid, dtype: float64"
      ]
     },
     "execution_count": 6,
     "metadata": {},
     "output_type": "execute_result"
    }
   ],
   "source": [
    "dataset['cuid'].value_counts().describe()"
   ]
  },
  {
   "cell_type": "markdown",
   "metadata": {},
   "source": [
    "##### Распределение идентификаторов на группы cat_feature"
   ]
  },
  {
   "cell_type": "code",
   "execution_count": 10,
   "metadata": {},
   "outputs": [
    {
     "data": {
      "text/html": [
       "<div>\n",
       "<style scoped>\n",
       "    .dataframe tbody tr th:only-of-type {\n",
       "        vertical-align: middle;\n",
       "    }\n",
       "\n",
       "    .dataframe tbody tr th {\n",
       "        vertical-align: top;\n",
       "    }\n",
       "\n",
       "    .dataframe thead th {\n",
       "        text-align: right;\n",
       "    }\n",
       "</style>\n",
       "<table border=\"1\" class=\"dataframe\">\n",
       "  <thead>\n",
       "    <tr style=\"text-align: right;\">\n",
       "      <th></th>\n",
       "      <th>cuid</th>\n",
       "    </tr>\n",
       "    <tr>\n",
       "      <th>cat_feature</th>\n",
       "      <th></th>\n",
       "    </tr>\n",
       "  </thead>\n",
       "  <tbody>\n",
       "    <tr>\n",
       "      <th>1</th>\n",
       "      <td>6</td>\n",
       "    </tr>\n",
       "    <tr>\n",
       "      <th>2</th>\n",
       "      <td>85</td>\n",
       "    </tr>\n",
       "    <tr>\n",
       "      <th>5</th>\n",
       "      <td>10</td>\n",
       "    </tr>\n",
       "  </tbody>\n",
       "</table>\n",
       "</div>"
      ],
      "text/plain": [
       "             cuid\n",
       "cat_feature      \n",
       "1               6\n",
       "2              85\n",
       "5              10"
      ]
     },
     "execution_count": 10,
     "metadata": {},
     "output_type": "execute_result"
    }
   ],
   "source": [
    "dataset[['cuid', 'cat_feature']].groupby('cat_feature').count()"
   ]
  },
  {
   "cell_type": "markdown",
   "metadata": {},
   "source": [
    "##### Уникальные идентификаторы"
   ]
  },
  {
   "cell_type": "code",
   "execution_count": 17,
   "metadata": {},
   "outputs": [
    {
     "name": "stdout",
     "output_type": "stream",
     "text": [
      "Кол-во: 6\n"
     ]
    }
   ],
   "source": [
    "cuids = dataset['cuid'].unique()\n",
    "print('Кол-во:', cuids.shape[0])"
   ]
  },
  {
   "cell_type": "code",
   "execution_count": null,
   "metadata": {},
   "outputs": [],
   "source": []
  },
  {
   "cell_type": "code",
   "execution_count": null,
   "metadata": {},
   "outputs": [],
   "source": []
  },
  {
   "cell_type": "code",
   "execution_count": null,
   "metadata": {},
   "outputs": [],
   "source": []
  },
  {
   "cell_type": "markdown",
   "metadata": {},
   "source": [
    "# Проверка датасета на последовательность записи cuid\n",
    "возможно все cuid идут последовательно (не перемешаны)\n",
    "Создать файл только с данными cuid из начального датасета, пропуская строки с повторением cuid"
   ]
  },
  {
   "cell_type": "code",
   "execution_count": null,
   "metadata": {},
   "outputs": [],
   "source": [
    "%%time\n",
    "\n",
    "niter = 0\n",
    "input_gzip = '..\\\\input\\\\mlboot_data.tsv.gz'\n",
    "output_cuids = '..\\\\vw\\\\cuid_unique_consistently.vw'\n",
    "\n",
    "prev_cuid = ''\n",
    "with gzip.open(input_gzip, 'rt') as input_data, open(output_cuids, 'w') as output:\n",
    "\n",
    "    for row in tqdm(input_data):\n",
    "        cuid = row.split()[0]\n",
    "        \n",
    "        if cuid != prev_cuid:\n",
    "            output.write(f'{cuid}\\n')\n",
    "        \n",
    "        prev_cuid = cuid"
   ]
  },
  {
   "cell_type": "code",
   "execution_count": null,
   "metadata": {},
   "outputs": [],
   "source": [
    "Проверить количество cuid в записанном файле, и найти кол-во уникальных"
   ]
  },
  {
   "cell_type": "code",
   "execution_count": null,
   "metadata": {},
   "outputs": [],
   "source": [
    "cuids = pd.read_csv('..\\\\vw\\\\cuid_unique_consistently.vw', header=None, index_col=None, names=['cuid'])\n",
    "cuids.shape"
   ]
  },
  {
   "cell_type": "code",
   "execution_count": null,
   "metadata": {},
   "outputs": [],
   "source": [
    "cuids['cuid'].nunique()"
   ]
  },
  {
   "cell_type": "markdown",
   "metadata": {},
   "source": [
    "### Вывод\n",
    "Данные для каждого cuid записаны последовательно"
   ]
  },
  {
   "cell_type": "code",
   "execution_count": null,
   "metadata": {},
   "outputs": [],
   "source": []
  },
  {
   "cell_type": "code",
   "execution_count": null,
   "metadata": {},
   "outputs": [],
   "source": []
  },
  {
   "cell_type": "code",
   "execution_count": null,
   "metadata": {},
   "outputs": [],
   "source": []
  },
  {
   "cell_type": "markdown",
   "metadata": {},
   "source": [
    "# Изучить cuids с target=1\n",
    "\n",
    "Вполне возможно cuid с таргетом 1 имеют какие то сходства в признаках\n",
    "\n",
    "### Создать датасет с целевой переменной = 1"
   ]
  },
  {
   "cell_type": "code",
   "execution_count": 2,
   "metadata": {},
   "outputs": [],
   "source": [
    "test_df = pd.read_csv('..\\\\input\\\\mlboot_test.tsv')\n",
    "train_df = pd.read_csv('..\\\\input\\\\mlboot_train_answers.tsv', delimiter='\\t')"
   ]
  },
  {
   "cell_type": "code",
   "execution_count": 3,
   "metadata": {},
   "outputs": [],
   "source": [
    "# Оставить только необходимые данные\n",
    "train_target_cuids = train_df['cuid'][train_df['target']==1].tolist()"
   ]
  },
  {
   "cell_type": "code",
   "execution_count": 4,
   "metadata": {},
   "outputs": [
    {
     "name": "stderr",
     "output_type": "stream",
     "text": [
      "19528597it [3:17:04, 1651.58it/s]\n"
     ]
    },
    {
     "name": "stdout",
     "output_type": "stream",
     "text": [
      "Wall time: 3h 17min 4s\n"
     ]
    }
   ],
   "source": [
    "%%time\n",
    "\n",
    "# Записать датасет с cuid для которых target=1\n",
    "out_file = '..\\\\input\\\\mlboot_data_target.tsv'\n",
    "\n",
    "with gzip.open('..\\\\input\\\\mlboot_data.tsv.gz', 'rt') as f, open(out_file, 'w') as out_f:\n",
    "    for row in tqdm(f):\n",
    "        cuid = row.split()[0]\n",
    "        if cuid in train_target_cuids:\n",
    "            out_f.write(row)\n",
    "        \n",
    "#         break"
   ]
  },
  {
   "cell_type": "code",
   "execution_count": null,
   "metadata": {},
   "outputs": [],
   "source": []
  },
  {
   "cell_type": "code",
   "execution_count": null,
   "metadata": {},
   "outputs": [],
   "source": []
  }
 ],
 "metadata": {
  "kernelspec": {
   "display_name": "Python 3",
   "language": "python",
   "name": "python3"
  },
  "language_info": {
   "codemirror_mode": {
    "name": "ipython",
    "version": 3
   },
   "file_extension": ".py",
   "mimetype": "text/x-python",
   "name": "python",
   "nbconvert_exporter": "python",
   "pygments_lexer": "ipython3",
   "version": "3.6.5"
  }
 },
 "nbformat": 4,
 "nbformat_minor": 2
}
