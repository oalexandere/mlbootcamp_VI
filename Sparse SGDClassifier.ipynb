{
 "cells": [
  {
   "cell_type": "code",
   "execution_count": 1,
   "metadata": {},
   "outputs": [],
   "source": [
    "import gc\n",
    "\n",
    "import numpy as np\n",
    "import pandas as pd\n",
    "from tqdm import tqdm\n",
    "from scipy import sparse\n",
    "# import xgboost as xgb\n",
    "\n",
    "from sklearn.feature_extraction.text import TfidfVectorizer, CountVectorizer\n",
    "from sklearn.model_selection import StratifiedKFold\n",
    "from sklearn.metrics import roc_auc_score\n",
    "from sklearn.linear_model import LogisticRegression\n",
    "from sklearn.preprocessing import StandardScaler, MaxAbsScaler\n",
    "\n",
    "# from skopt import BayesSearchCV\n",
    "\n",
    "def read_file(file_name, max_iters=float('Inf')):\n",
    "    data = []\n",
    "    n_items = 0\n",
    "\n",
    "    with open(file_name, 'r') as f:\n",
    "        for row in f:\n",
    "            n_items += 1\n",
    "            data.append(row)\n",
    "            \n",
    "            if n_items > max_iters:\n",
    "                break\n",
    "    return data"
   ]
  },
  {
   "cell_type": "markdown",
   "metadata": {},
   "source": [
    "# BaseLine: модели"
   ]
  },
  {
   "cell_type": "markdown",
   "metadata": {},
   "source": [
    "### Загрузка данных"
   ]
  },
  {
   "cell_type": "code",
   "execution_count": 4,
   "metadata": {},
   "outputs": [],
   "source": [
    "# Датасет\n",
    "X_train = sparse.load_npz('..\\\\sparse\\\\sp_train_dataset.npz') #.tocsr()\n",
    "\n",
    "# Правильные ответы на train\n",
    "y_train = read_file('..\\\\sparse\\\\dataset_s_labels.csv')\n",
    "y_train = np.array([int(a) for a in y_train])"
   ]
  },
  {
   "cell_type": "code",
   "execution_count": 5,
   "metadata": {},
   "outputs": [
    {
     "data": {
      "text/plain": [
       "(<427994x1786632 sparse matrix of type '<class 'numpy.float64'>'\n",
       " \twith 292560261 stored elements in Compressed Sparse Row format>, (427994,))"
      ]
     },
     "execution_count": 5,
     "metadata": {},
     "output_type": "execute_result"
    }
   ],
   "source": [
    "X_train, y_train.shape"
   ]
  },
  {
   "cell_type": "code",
   "execution_count": null,
   "metadata": {},
   "outputs": [],
   "source": [
    "# Загрузка тестовой выборки\n",
    "X_test = sparse.load_npz('..\\\\sparse\\\\sp_test_dataset.npz') #.tocsr()\n",
    "\n",
    "X_test"
   ]
  },
  {
   "cell_type": "markdown",
   "metadata": {},
   "source": []
  },
  {
   "cell_type": "code",
   "execution_count": null,
   "metadata": {},
   "outputs": [],
   "source": []
  },
  {
   "cell_type": "code",
   "execution_count": null,
   "metadata": {},
   "outputs": [],
   "source": []
  },
  {
   "cell_type": "code",
   "execution_count": null,
   "metadata": {},
   "outputs": [],
   "source": []
  },
  {
   "cell_type": "code",
   "execution_count": null,
   "metadata": {},
   "outputs": [],
   "source": []
  },
  {
   "cell_type": "markdown",
   "metadata": {},
   "source": [
    "# SGDClassifier"
   ]
  },
  {
   "cell_type": "code",
   "execution_count": null,
   "metadata": {},
   "outputs": [],
   "source": [
    "# Датасет\n",
    "X_train = sparse.load_npz('..\\\\sparse\\\\sp_train_dataset.npz') #.tocsr()\n",
    "\n",
    "# Правильные ответы на train\n",
    "y_train = read_file('..\\\\sparse\\\\dataset_s_labels.csv')\n",
    "y_train = np.array([int(a) for a in y_train])\n",
    "\n",
    "X_train, y_train.shape"
   ]
  },
  {
   "cell_type": "code",
   "execution_count": null,
   "metadata": {},
   "outputs": [],
   "source": []
  },
  {
   "cell_type": "markdown",
   "metadata": {},
   "source": [
    "### Результаты"
   ]
  },
  {
   "cell_type": "code",
   "execution_count": null,
   "metadata": {},
   "outputs": [],
   "source": [
    "cuids_test = pd.read_csv('..\\\\sparse\\\\dataset_s_test_cuid.csv', index_col=None, names=['cuid'], header=None)\n",
    "cuids_out = pd.read_csv('..\\\\input\\\\mlboot_test.tsv', index_col=[0])"
   ]
  },
  {
   "cell_type": "code",
   "execution_count": null,
   "metadata": {},
   "outputs": [],
   "source": [
    "file_cuids = '..\\\\vw\\\\dataset_cuid_test.vw'\n",
    "file_test = '..\\\\input\\\\mlboot_test.tsv'\n",
    "\n",
    "cuid_df = pd.read_csv('..\\\\sparse\\\\dataset_s_test_cuid.csv', index_col=None, names=['cuid'], usecols=[0], header=None, sep='\\t')\n",
    "cuid_test = pd.read_csv(file_test, index_col=[0])"
   ]
  }
 ],
 "metadata": {
  "kernelspec": {
   "display_name": "Python 3",
   "language": "python",
   "name": "python3"
  },
  "language_info": {
   "codemirror_mode": {
    "name": "ipython",
    "version": 3
   },
   "file_extension": ".py",
   "mimetype": "text/x-python",
   "name": "python",
   "nbconvert_exporter": "python",
   "pygments_lexer": "ipython3",
   "version": "3.6.5"
  }
 },
 "nbformat": 4,
 "nbformat_minor": 2
}
